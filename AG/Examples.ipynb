{
 "metadata": {
  "language": "haskell",
  "signature": "sha256:3e37e78124ead3da2269557c00bfb30d800ff97a194e538b0c278712aee4b531"
 },
 "nbformat": 3,
 "nbformat_minor": 0,
 "worksheets": [
  {
   "cells": [
    {
     "cell_type": "code",
     "collapsed": false,
     "input": [
      "mymap :: (a -> b) -> [a] -> [b]\n",
      "mymap _ []     = []\n",
      "mymap f (x:xs) = f x : mymap f xs"
     ],
     "language": "python",
     "metadata": {},
     "outputs": [],
     "prompt_number": 1
    },
    {
     "cell_type": "code",
     "collapsed": false,
     "input": [
      "myfoldl :: (a -> b -> a) -> a -> [b] -> a\n",
      "myfoldl _ a []     = a\n",
      "myfoldl f a (x:xs) = myfoldl f (f a x) xs"
     ],
     "language": "python",
     "metadata": {
      "hidden": false
     },
     "outputs": [],
     "prompt_number": 2
    },
    {
     "cell_type": "code",
     "collapsed": false,
     "input": [
      "square :: Int -> Int\n",
      "square a = a*a"
     ],
     "language": "python",
     "metadata": {},
     "outputs": [],
     "prompt_number": 3
    },
    {
     "cell_type": "code",
     "collapsed": false,
     "input": [
      "mysum :: [Int] -> Int\n",
      "mysum = myfoldl (+) 0"
     ],
     "language": "python",
     "metadata": {},
     "outputs": [],
     "prompt_number": 4
    },
    {
     "cell_type": "code",
     "collapsed": false,
     "input": [
      "ints :: [Int]\n",
      "ints = [1..5]"
     ],
     "language": "python",
     "metadata": {},
     "outputs": [],
     "prompt_number": 5
    },
    {
     "cell_type": "code",
     "collapsed": false,
     "input": [
      "mysum (mymap square ints)"
     ],
     "language": "python",
     "metadata": {},
     "outputs": [
      {
       "metadata": {},
       "output_type": "display_data",
       "text": [
        "55"
       ]
      }
     ],
     "prompt_number": 7
    },
    {
     "cell_type": "code",
     "collapsed": false,
     "input": [],
     "language": "python",
     "metadata": {},
     "outputs": []
    }
   ],
   "metadata": {}
  }
 ]
}