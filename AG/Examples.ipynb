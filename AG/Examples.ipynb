{
 "metadata": {
  "language": "haskell",
  "signature": "sha256:af4f757a772dc06b57b8495f1f04b648a9c6cf3db637f5cbd7572bab83751f20"
 },
 "nbformat": 3,
 "nbformat_minor": 0,
 "worksheets": [
  {
   "cells": [
    {
     "cell_type": "code",
     "collapsed": false,
     "input": [
      "integer   = 3\n",
      "str       = \"Hello, World!\"\n",
      "character = 'c'\n",
      "tuple     = (integer, str, character)\n",
      "print tuple"
     ],
     "language": "python",
     "metadata": {
      "hidden": false
     },
     "outputs": [
      {
       "metadata": {},
       "output_type": "display_data",
       "text": [
        "(3,\"Hello, World!\",'c')"
       ]
      }
     ],
     "prompt_number": 9
    },
    {
     "cell_type": "code",
     "collapsed": false,
     "input": [
      "integer :: Int\n",
      "integer = 3\n",
      "\n",
      "str :: String\n",
      "str = \"Hello, World!\"\n",
      "\n",
      "character :: Char\n",
      "character = 'c'\n",
      "\n",
      "tuple :: (Int, String, Char)\n",
      "tuple = (integer, str, character)\n",
      "\n",
      "print tuple"
     ],
     "language": "python",
     "metadata": {
      "hidden": false
     },
     "outputs": [
      {
       "metadata": {},
       "output_type": "display_data",
       "text": [
        "(3,\"Hello, World!\",'c')"
       ]
      }
     ],
     "prompt_number": 11
    },
    {
     "cell_type": "code",
     "collapsed": false,
     "input": [
      "integer   = 3 :: Int\n",
      "str       = \"Hello, World!\" :: String\n",
      "character = 'C' :: Char\n",
      "tuple     = (integer, str, character) ::(Int, String, Char)\n",
      "\n",
      "print tuple"
     ],
     "language": "python",
     "metadata": {
      "hidden": false
     },
     "outputs": [
      {
       "metadata": {},
       "output_type": "display_data",
       "text": [
        "(3,\"Hello, World!\",'C')"
       ]
      }
     ],
     "prompt_number": 12
    },
    {
     "cell_type": "code",
     "collapsed": false,
     "input": [
      "three = one + two\n",
      "    where\n",
      "        one = 1\n",
      "        two = 2\n",
      "        \n",
      "seven = \n",
      "    let three = 3 :: Float\n",
      "        four  = 4 :: Float\n",
      "    in three + four        \n",
      "        \n",
      "eight = let {x = 5 :: Int; y = 3 :: Int} in x + y \n",
      "        \n",
      "print (three, seven, eight)"
     ],
     "language": "python",
     "metadata": {
      "hidden": false
     },
     "outputs": [
      {
       "metadata": {},
       "output_type": "display_data",
       "text": [
        "(3,7.0,8)"
       ]
      }
     ],
     "prompt_number": 14
    },
    {
     "cell_type": "code",
     "collapsed": false,
     "input": [
      "timesThree :: Int -> Int\n",
      "timesThree x = x * 3\n",
      "\n",
      "sayHello :: String -> String\n",
      "sayHello target = \"Hello, \" ++ target ++ \"!\"\n",
      "\n",
      "\n",
      "add :: Int -> Int -> Int\n",
      "add x y = x + y\n",
      "\n",
      "z = add 1 2"
     ],
     "language": "python",
     "metadata": {
      "hidden": false
     },
     "outputs": [],
     "prompt_number": 22
    },
    {
     "cell_type": "code",
     "collapsed": false,
     "input": [
      "newtype Age     = Age Float\n",
      "    deriving Show\n",
      "newtype Weight  = Weight Float\n",
      "    deriving Show\n",
      "newtype Address = Address String\n",
      "    deriving Show\n",
      "\n",
      "data Person = Adult {\n",
      "    age :: Age,\n",
      "    weight :: Weight,\n",
      "    address :: Address\n",
      "    } | Child {\n",
      "    age :: Age,\n",
      "    weight :: Weight,\n",
      "    parent :: Person\n",
      "    }\n",
      "\n",
      "charlie, victoria, john :: Person\n",
      "charlie  = Adult (Age 50) (Weight 150) (Address \"Happy St.\")\n",
      "victoria = Adult (Age 52) (Weight 150) (Address \"Happy St.\")\n",
      "john     = Child (Age 10) (Weight 90) charlie\n",
      "\n",
      "location :: Person -> Address\n",
      "location Adult{address = addr} = addr\n",
      "location Child{parent = adult} = location adult\n",
      "\n",
      "print (location charlie, location john, location victoria)"
     ],
     "language": "python",
     "metadata": {
      "hidden": false
     },
     "outputs": [
      {
       "metadata": {},
       "output_type": "display_data",
       "text": [
        "(Address \"Happy St.\",Address \"Happy St.\",Address \"Happy St.\")"
       ]
      }
     ],
     "prompt_number": 31
    },
    {
     "cell_type": "code",
     "collapsed": false,
     "input": [
      "mymap :: (a -> b) -> [a] -> [b]\n",
      "mymap _ []     = []\n",
      "mymap f (x:xs) = f x : mymap f xs"
     ],
     "language": "python",
     "metadata": {
      "hidden": false
     },
     "outputs": [],
     "prompt_number": 15
    },
    {
     "cell_type": "code",
     "collapsed": false,
     "input": [
      "myfoldl :: (a -> b -> a) -> a -> [b] -> a\n",
      "myfoldl _ a []     = a\n",
      "myfoldl f a (x:xs) = myfoldl f (f a x) xs"
     ],
     "language": "python",
     "metadata": {},
     "outputs": [],
     "prompt_number": 16
    },
    {
     "cell_type": "code",
     "collapsed": false,
     "input": [
      "square :: Int -> Int\n",
      "square a = a*a"
     ],
     "language": "python",
     "metadata": {},
     "outputs": [],
     "prompt_number": 17
    },
    {
     "cell_type": "code",
     "collapsed": false,
     "input": [
      "mysum :: [Int] -> Int\n",
      "mysum = myfoldl (+) 0"
     ],
     "language": "python",
     "metadata": {},
     "outputs": [],
     "prompt_number": 18
    },
    {
     "cell_type": "code",
     "collapsed": false,
     "input": [
      "ints :: [Int]\n",
      "ints = [1..5]"
     ],
     "language": "python",
     "metadata": {},
     "outputs": [],
     "prompt_number": 19
    },
    {
     "cell_type": "code",
     "collapsed": false,
     "input": [
      "mysum (mymap square ints)"
     ],
     "language": "python",
     "metadata": {},
     "outputs": [
      {
       "metadata": {},
       "output_type": "display_data",
       "text": [
        "55"
       ]
      }
     ],
     "prompt_number": 20
    },
    {
     "cell_type": "code",
     "collapsed": false,
     "input": [],
     "language": "python",
     "metadata": {},
     "outputs": []
    }
   ],
   "metadata": {}
  }
 ]
}